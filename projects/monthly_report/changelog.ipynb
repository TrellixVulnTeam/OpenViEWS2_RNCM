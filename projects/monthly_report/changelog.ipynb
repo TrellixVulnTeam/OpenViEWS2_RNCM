{
 "cells": [
  {
   "cell_type": "markdown",
   "id": "commercial-detective",
   "metadata": {},
   "source": [
    "# r_2021_03_01"
   ]
  },
  {
   "cell_type": "markdown",
   "id": "structured-concrete",
   "metadata": {},
   "source": [
    "**General changes (to merge into master)**:\n",
    "* Reduced cores per job by one via `mem_per_job` in `monthly.py` to avoid crashing multiprocessing pool.\n",
    "* Simplified argparse of `train_model.py` and `train_slurm.py` to allow listing of steps and models like `--model model_a model_b` rather than `--model model_a --model model_b`.\n",
    "* `get_files_latest_fetch` in `common.py` fetched first rather than last item in sorted list. This has applied to ICGCW and REIGN. Now fetches the correct latest version of the data.\n",
    "* Allowed passing 0 to `tlag` in transforms lib for tlag_0 variables.\n",
    "* Adding current violent history input to the model specs. Zero time-lagged to avoid step-shifting our outcome in model api. See specific changes to column sets below.\n",
    "\n",
    "**Changes at cm**:\n",
    "* Added to `cfshort`:\n",
    "```\n",
    "    - tlags_0_ged_dummy_sb_ns_os\n",
    "    - ged_best_sb_ns_os\n",
    "    - greq_5_ged_best_sb_ns_os\n",
    "    - tlags_0_greq_5_ged_best_sb_ns_os\n",
    "    - tlags_0_greq_25_ged_best_sb_ns_os\n",
    "    - greq_100_ged_best_sb_ns_os\n",
    "    - tlags_0_greq_100_ged_best_sb_ns_os\n",
    "```\n",
    "* Added to `cflong`:\n",
    "```\n",
    "    - tlags_0_ged_dummy_sb_ns_os\n",
    "    - ged_best_sb_ns_os\n",
    "    - greq_5_ged_best_sb_ns_os\n",
    "    - tlags_0_greq_5_ged_best_sb_ns_os\n",
    "    - tlags_0_greq_25_ged_best_sb_ns_os\n",
    "    - greq_100_ged_best_sb_ns_os\n",
    "    - tlags_0_greq_100_ged_best_sb_ns_os\n",
    "```\n",
    "\n",
    "**Changes at pgm**:\n",
    "\n",
    "* Added to `legacy_hist_common`:\n",
    "```\n",
    "    - tlags_0_ged_dummy_sb_ns_os\n",
    "    - ged_best_sb_ns_os  # TODO?\n",
    "    - tlags_0_greq_5_ged_best_sb_ns_os\n",
    "    - tlags_0_greq_25_ged_best_sb_ns_os\n",
    "    - tlags_0_greq_100_ged_best_sb_ns_os\n",
    "    - acled_protest\n",
    "```\n",
    "* Added colset `acled_protest`:\n",
    "```\n",
    "    - acled_dummy_pr\n",
    "    - tlag_0_acled_dummy_pr\n",
    "    - acled_count_pr\n",
    "```\n",
    "\n",
    "\n",
    "**Retrained models at cm**:\n",
    "* cm_sb_cfshort\n",
    "* cm_sb_cflong\n",
    "* cm_sb_acled_violence\n",
    "* cm_sb_acled_protest \n",
    "* cm_sbonset24_25_all\n",
    "* cm_sb_all_global\n",
    "\n",
    "\n",
    "**Retrained models at pgm**:\n",
    "* pgm_sb_hist_legacy\n",
    "* pgm_sb_allthemes\n",
    "* pgm_sb_onset24_100_all\n",
    "* pgm_sb_onset24_1_all\n",
    "* pgm_sb_all_gxgb"
   ]
  },
  {
   "cell_type": "code",
   "execution_count": null,
   "id": "automatic-exchange",
   "metadata": {},
   "outputs": [],
   "source": []
  }
 ],
 "metadata": {
  "kernelspec": {
   "display_name": "Python 3",
   "language": "python",
   "name": "python3"
  },
  "language_info": {
   "codemirror_mode": {
    "name": "ipython",
    "version": 3
   },
   "file_extension": ".py",
   "mimetype": "text/x-python",
   "name": "python",
   "nbconvert_exporter": "python",
   "pygments_lexer": "ipython3",
   "version": "3.8.0"
  }
 },
 "nbformat": 4,
 "nbformat_minor": 5
}
